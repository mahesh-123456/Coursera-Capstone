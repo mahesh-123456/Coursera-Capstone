{
 "cells": [
  {
   "cell_type": "markdown",
   "metadata": {},
   "source": [
    "# Data:"
   ]
  },
  {
   "cell_type": "markdown",
   "metadata": {},
   "source": [
    "# To solve the problem, we will need the following data: • List of neighbourhoods in Hyderabad. This defines the scope of thisproject which is confined to the city of Hyderabad, the capital ofTelangana. • Latitude and longitude coordinates of theseneighbourhoods. This is required in order to plot the map andalso to get the venue data. • Venue data, particularly data relatedto shopping malls. We will use this data to perform clustering onthe neighbourhoods"
   ]
  },
  {
   "cell_type": "markdown",
   "metadata": {},
   "source": [
    "# Sources of data and methods to extract them :"
   ]
  },
  {
   "cell_type": "markdown",
   "metadata": {},
   "source": [
    "This Wikipedia page\n",
    "(https://en.wikipedia.org/wiki/Category:Neighbourhoods_in_Hyd\n",
    "erabad,_India) contains a list of neighbourhoods in Hyderabad ,\n",
    "with a total of 200 neighbourhoods. We will use web scraping\n",
    "techniques to extract the data from the Wikipedia page, with the\n",
    "help of Python requests and beautiful soup packages. Then we\n",
    "will get the geographical coordinates of the neighbourhoods using\n",
    "Python Geocoder package which will give us the latitude and\n",
    "longitude coordinates of the neighbourhoods. After that, we will\n",
    "use Foursquare API to get the venue data for those\n",
    "neighbourhoods. Foursquare has one of the largest databases of\n",
    "105+ million places and is used by over 125,000 developers.\n",
    "Foursquare API will provide many categories of the venue data,\n",
    "we are particularly interested in the shopping category in order to\n",
    "help us to solve the business problem put forward. This is a\n",
    "project that will make use of many data science skills, from web\n",
    "scraping (Wikipedia), working with API (Foursquare), data\n",
    "cleaning, data wrangling, to machine learning (K-means\n",
    "clustering) and map visualization (Folium). In the next section,\n",
    "we will present the Methodology section where we will discuss the\n",
    "steps taken in this project, the data analysis that we did and the\n",
    "machine learning technique that was used"
   ]
  },
  {
   "cell_type": "code",
   "execution_count": null,
   "metadata": {},
   "outputs": [],
   "source": []
  }
 ],
 "metadata": {
  "kernelspec": {
   "display_name": "Python 3",
   "language": "python",
   "name": "python3"
  },
  "language_info": {
   "codemirror_mode": {
    "name": "ipython",
    "version": 3
   },
   "file_extension": ".py",
   "mimetype": "text/x-python",
   "name": "python",
   "nbconvert_exporter": "python",
   "pygments_lexer": "ipython3",
   "version": "3.7.6"
  }
 },
 "nbformat": 4,
 "nbformat_minor": 4
}
